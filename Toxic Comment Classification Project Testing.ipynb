{
 "cells": [
  {
   "cell_type": "code",
   "execution_count": 20,
   "id": "5d2612ce",
   "metadata": {},
   "outputs": [],
   "source": [
    "import pandas as pd\n",
    "import numpy as np\n",
    "import re\n",
    "import nltk\n",
    "from nltk.corpus import stopwords\n",
    "from nltk.tokenize import word_tokenize\n",
    "from nltk.tokenize import RegexpTokenizer\n",
    "from nltk.stem import PorterStemmer\n",
    "from nltk.stem import WordNetLemmatizer\n",
    "from matplotlib import pyplot as plt\n",
    "import seaborn as sns\n",
    "from wordcloud import WordCloud\n",
    "from collections import Counter\n",
    "from sklearn.model_selection import train_test_split\n",
    "from sklearn.feature_extraction.text import TfidfVectorizer\n",
    "from sklearn.linear_model import SGDClassifier\n",
    "from sklearn.linear_model import LogisticRegression\n",
    "from sklearn.svm import LinearSVC\n",
    "from sklearn.multiclass import OneVsRestClassifier\n",
    "import sklearn.metrics as skm\n",
    "import pickle"
   ]
  },
  {
   "cell_type": "code",
   "execution_count": 22,
   "id": "63c3bfd9",
   "metadata": {},
   "outputs": [
    {
     "data": {
      "text/html": [
       "<div>\n",
       "<style scoped>\n",
       "    .dataframe tbody tr th:only-of-type {\n",
       "        vertical-align: middle;\n",
       "    }\n",
       "\n",
       "    .dataframe tbody tr th {\n",
       "        vertical-align: top;\n",
       "    }\n",
       "\n",
       "    .dataframe thead th {\n",
       "        text-align: right;\n",
       "    }\n",
       "</style>\n",
       "<table border=\"1\" class=\"dataframe\">\n",
       "  <thead>\n",
       "    <tr style=\"text-align: right;\">\n",
       "      <th></th>\n",
       "      <th>id</th>\n",
       "      <th>comment_text</th>\n",
       "    </tr>\n",
       "  </thead>\n",
       "  <tbody>\n",
       "    <tr>\n",
       "      <th>0</th>\n",
       "      <td>00001cee341fdb12</td>\n",
       "      <td>Yo bitch Ja Rule is more succesful then you'll...</td>\n",
       "    </tr>\n",
       "    <tr>\n",
       "      <th>1</th>\n",
       "      <td>0000247867823ef7</td>\n",
       "      <td>== From RfC == \\n\\n The title is fine as it is...</td>\n",
       "    </tr>\n",
       "    <tr>\n",
       "      <th>2</th>\n",
       "      <td>00013b17ad220c46</td>\n",
       "      <td>\" \\n\\n == Sources == \\n\\n * Zawe Ashton on Lap...</td>\n",
       "    </tr>\n",
       "    <tr>\n",
       "      <th>3</th>\n",
       "      <td>00017563c3f7919a</td>\n",
       "      <td>:If you have a look back at the source, the in...</td>\n",
       "    </tr>\n",
       "    <tr>\n",
       "      <th>4</th>\n",
       "      <td>00017695ad8997eb</td>\n",
       "      <td>I don't anonymously edit articles at all.</td>\n",
       "    </tr>\n",
       "    <tr>\n",
       "      <th>...</th>\n",
       "      <td>...</td>\n",
       "      <td>...</td>\n",
       "    </tr>\n",
       "    <tr>\n",
       "      <th>153159</th>\n",
       "      <td>fffcd0960ee309b5</td>\n",
       "      <td>. \\n i totally agree, this stuff is nothing bu...</td>\n",
       "    </tr>\n",
       "    <tr>\n",
       "      <th>153160</th>\n",
       "      <td>fffd7a9a6eb32c16</td>\n",
       "      <td>== Throw from out field to home plate. == \\n\\n...</td>\n",
       "    </tr>\n",
       "    <tr>\n",
       "      <th>153161</th>\n",
       "      <td>fffda9e8d6fafa9e</td>\n",
       "      <td>\" \\n\\n == Okinotorishima categories == \\n\\n I ...</td>\n",
       "    </tr>\n",
       "    <tr>\n",
       "      <th>153162</th>\n",
       "      <td>fffe8f1340a79fc2</td>\n",
       "      <td>\" \\n\\n == \"\"One of the founding nations of the...</td>\n",
       "    </tr>\n",
       "    <tr>\n",
       "      <th>153163</th>\n",
       "      <td>ffffce3fb183ee80</td>\n",
       "      <td>\" \\n :::Stop already. Your bullshit is not wel...</td>\n",
       "    </tr>\n",
       "  </tbody>\n",
       "</table>\n",
       "<p>153164 rows × 2 columns</p>\n",
       "</div>"
      ],
      "text/plain": [
       "                      id                                       comment_text\n",
       "0       00001cee341fdb12  Yo bitch Ja Rule is more succesful then you'll...\n",
       "1       0000247867823ef7  == From RfC == \\n\\n The title is fine as it is...\n",
       "2       00013b17ad220c46  \" \\n\\n == Sources == \\n\\n * Zawe Ashton on Lap...\n",
       "3       00017563c3f7919a  :If you have a look back at the source, the in...\n",
       "4       00017695ad8997eb          I don't anonymously edit articles at all.\n",
       "...                  ...                                                ...\n",
       "153159  fffcd0960ee309b5  . \\n i totally agree, this stuff is nothing bu...\n",
       "153160  fffd7a9a6eb32c16  == Throw from out field to home plate. == \\n\\n...\n",
       "153161  fffda9e8d6fafa9e  \" \\n\\n == Okinotorishima categories == \\n\\n I ...\n",
       "153162  fffe8f1340a79fc2  \" \\n\\n == \"\"One of the founding nations of the...\n",
       "153163  ffffce3fb183ee80  \" \\n :::Stop already. Your bullshit is not wel...\n",
       "\n",
       "[153164 rows x 2 columns]"
      ]
     },
     "execution_count": 22,
     "metadata": {},
     "output_type": "execute_result"
    }
   ],
   "source": [
    "test_data = pd.read_csv(\"E:/jigsaw-toxic-comment-classification-challenge/test.csv/test.csv\")\n",
    "test_data"
   ]
  },
  {
   "cell_type": "code",
   "execution_count": 23,
   "id": "c809d22a",
   "metadata": {},
   "outputs": [
    {
     "data": {
      "text/html": [
       "<div>\n",
       "<style scoped>\n",
       "    .dataframe tbody tr th:only-of-type {\n",
       "        vertical-align: middle;\n",
       "    }\n",
       "\n",
       "    .dataframe tbody tr th {\n",
       "        vertical-align: top;\n",
       "    }\n",
       "\n",
       "    .dataframe thead th {\n",
       "        text-align: right;\n",
       "    }\n",
       "</style>\n",
       "<table border=\"1\" class=\"dataframe\">\n",
       "  <thead>\n",
       "    <tr style=\"text-align: right;\">\n",
       "      <th></th>\n",
       "      <th>id</th>\n",
       "      <th>comment_text</th>\n",
       "    </tr>\n",
       "  </thead>\n",
       "  <tbody>\n",
       "    <tr>\n",
       "      <th>0</th>\n",
       "      <td>00001cee341fdb12</td>\n",
       "      <td>Yo bitch Ja Rule is more succesful then you'll...</td>\n",
       "    </tr>\n",
       "    <tr>\n",
       "      <th>1</th>\n",
       "      <td>0000247867823ef7</td>\n",
       "      <td>== From RfC == \\n\\n The title is fine as it is...</td>\n",
       "    </tr>\n",
       "    <tr>\n",
       "      <th>2</th>\n",
       "      <td>00013b17ad220c46</td>\n",
       "      <td>\" \\n\\n == Sources == \\n\\n * Zawe Ashton on Lap...</td>\n",
       "    </tr>\n",
       "    <tr>\n",
       "      <th>3</th>\n",
       "      <td>00017563c3f7919a</td>\n",
       "      <td>:If you have a look back at the source, the in...</td>\n",
       "    </tr>\n",
       "    <tr>\n",
       "      <th>4</th>\n",
       "      <td>00017695ad8997eb</td>\n",
       "      <td>I don't anonymously edit articles at all.</td>\n",
       "    </tr>\n",
       "    <tr>\n",
       "      <th>...</th>\n",
       "      <td>...</td>\n",
       "      <td>...</td>\n",
       "    </tr>\n",
       "    <tr>\n",
       "      <th>9995</th>\n",
       "      <td>10b1754d1898042c</td>\n",
       "      <td>Justin Timberlake is Gay</td>\n",
       "    </tr>\n",
       "    <tr>\n",
       "      <th>9996</th>\n",
       "      <td>10b200880206ed38</td>\n",
       "      <td>the blokes a welsh twat</td>\n",
       "    </tr>\n",
       "    <tr>\n",
       "      <th>9997</th>\n",
       "      <td>10b23e9152acee30</td>\n",
       "      <td>== A belated welcome! == \\n\\n ]]Here's wishing...</td>\n",
       "    </tr>\n",
       "    <tr>\n",
       "      <th>9998</th>\n",
       "      <td>10b2810192fb1174</td>\n",
       "      <td>\", 26 September 2010 (UTC) \\n :::::::Ugghhhh e...</td>\n",
       "    </tr>\n",
       "    <tr>\n",
       "      <th>9999</th>\n",
       "      <td>10b2c58a38630e4e</td>\n",
       "      <td>::Hooray! A non-POV discussion!</td>\n",
       "    </tr>\n",
       "  </tbody>\n",
       "</table>\n",
       "<p>10000 rows × 2 columns</p>\n",
       "</div>"
      ],
      "text/plain": [
       "                    id                                       comment_text\n",
       "0     00001cee341fdb12  Yo bitch Ja Rule is more succesful then you'll...\n",
       "1     0000247867823ef7  == From RfC == \\n\\n The title is fine as it is...\n",
       "2     00013b17ad220c46  \" \\n\\n == Sources == \\n\\n * Zawe Ashton on Lap...\n",
       "3     00017563c3f7919a  :If you have a look back at the source, the in...\n",
       "4     00017695ad8997eb          I don't anonymously edit articles at all.\n",
       "...                ...                                                ...\n",
       "9995  10b1754d1898042c                           Justin Timberlake is Gay\n",
       "9996  10b200880206ed38                            the blokes a welsh twat\n",
       "9997  10b23e9152acee30  == A belated welcome! == \\n\\n ]]Here's wishing...\n",
       "9998  10b2810192fb1174  \", 26 September 2010 (UTC) \\n :::::::Ugghhhh e...\n",
       "9999  10b2c58a38630e4e                    ::Hooray! A non-POV discussion!\n",
       "\n",
       "[10000 rows x 2 columns]"
      ]
     },
     "execution_count": 23,
     "metadata": {},
     "output_type": "execute_result"
    }
   ],
   "source": [
    "P = test_data.iloc[0:10000]\n",
    "P"
   ]
  },
  {
   "cell_type": "code",
   "execution_count": 24,
   "id": "1933ba2e",
   "metadata": {},
   "outputs": [
    {
     "data": {
      "text/plain": [
       "0       Yo bitch Ja Rule is more succesful then you'll...\n",
       "1       == From RfC == \\n\\n The title is fine as it is...\n",
       "2       \" \\n\\n == Sources == \\n\\n * Zawe Ashton on Lap...\n",
       "3       :If you have a look back at the source, the in...\n",
       "4               I don't anonymously edit articles at all.\n",
       "                              ...                        \n",
       "9995                             Justin Timberlake is Gay\n",
       "9996                              the blokes a welsh twat\n",
       "9997    == A belated welcome! == \\n\\n ]]Here's wishing...\n",
       "9998    \", 26 September 2010 (UTC) \\n :::::::Ugghhhh e...\n",
       "9999                      ::Hooray! A non-POV discussion!\n",
       "Name: comment_text, Length: 10000, dtype: object"
      ]
     },
     "execution_count": 24,
     "metadata": {},
     "output_type": "execute_result"
    }
   ],
   "source": [
    "P = P[\"comment_text\"]\n",
    "P"
   ]
  },
  {
   "cell_type": "code",
   "execution_count": 25,
   "id": "272dde47",
   "metadata": {},
   "outputs": [
    {
     "data": {
      "text/plain": [
       "0       yo bitch ja rule is more succesful then you'll...\n",
       "1       == from rfc == \\n\\n the title is fine as it is...\n",
       "2       \" \\n\\n == sources == \\n\\n * zawe ashton on lap...\n",
       "3       :if you have a look back at the source, the in...\n",
       "4               i don't anonymously edit articles at all.\n",
       "                              ...                        \n",
       "9995                             justin timberlake is gay\n",
       "9996                              the blokes a welsh twat\n",
       "9997    == a belated welcome! == \\n\\n ]]here's wishing...\n",
       "9998    \", 26 september 2010 (utc) \\n :::::::ugghhhh e...\n",
       "9999                      ::hooray! a non-pov discussion!\n",
       "Name: comment_text, Length: 10000, dtype: object"
      ]
     },
     "execution_count": 25,
     "metadata": {},
     "output_type": "execute_result"
    }
   ],
   "source": [
    "P = P.str.lower()\n",
    "P"
   ]
  },
  {
   "cell_type": "code",
   "execution_count": 26,
   "id": "737c9968",
   "metadata": {},
   "outputs": [
    {
     "data": {
      "text/plain": [
       "0       yo bitch ja rule is more succesful then you wi...\n",
       "1       == from rfc == \\n\\n the title is fine as it is...\n",
       "2       \" \\n\\n == sources == \\n\\n * zawe ashton on lap...\n",
       "3       :if you have a look back at the source, the in...\n",
       "4              i do not anonymously edit articles at all.\n",
       "                              ...                        \n",
       "9995                             justin timberlake is gay\n",
       "9996                              the blokes a welsh twat\n",
       "9997    == a belated welcome! == \\n\\n ]]here is wishin...\n",
       "9998    \", 26 september 2010 (utc) \\n :::::::ugghhhh e...\n",
       "9999                      ::hooray! a non-pov discussion!\n",
       "Name: comment_text, Length: 10000, dtype: object"
      ]
     },
     "execution_count": 26,
     "metadata": {},
     "output_type": "execute_result"
    }
   ],
   "source": [
    "def decontracted(phrase):\n",
    "    phrase = re.sub(r\"won't\", \"will not\", phrase)\n",
    "    phrase = re.sub(r\"can't\", \"can not\", phrase)\n",
    "    phrase = re.sub(r\"n\\'t\", \" not\", phrase)\n",
    "    phrase = re.sub(r\"\\'re\", \" are\", phrase)\n",
    "    phrase = re.sub(r\"\\'s\", \" is\", phrase)\n",
    "    phrase = re.sub(r\"\\'d\", \" would\", phrase)\n",
    "    phrase = re.sub(r\"\\'ll\", \" will\", phrase)\n",
    "    phrase = re.sub(r\"\\'t\", \" not\", phrase)\n",
    "    phrase = re.sub(r\"\\'ve\", \" have\", phrase)\n",
    "    phrase = re.sub(r\"\\'m\", \" am\", phrase)\n",
    "    return phrase\n",
    "P = P.apply(lambda x:decontracted(x))\n",
    "P"
   ]
  },
  {
   "cell_type": "code",
   "execution_count": 27,
   "id": "2db7ca2e",
   "metadata": {},
   "outputs": [
    {
     "data": {
      "text/plain": [
       "0       yo bitch ja rule succesful ever whats hating s...\n",
       "1                           == rfc == title fine is, imo.\n",
       "2             \" == sources == * zawe ashton lapland — / \"\n",
       "3       :if source, information updated correct form. ...\n",
       "4                           not anonymously articles all.\n",
       "                              ...                        \n",
       "9995                                justin timberlake gay\n",
       "9996                                    blokes welsh twat\n",
       "9997    == belated welcome! == ]]here wishing belated ...\n",
       "9998    \", 26 september 2010 (utc) :::::::ugghhhh emai...\n",
       "9999                        ::hooray! non-pov discussion!\n",
       "Name: comment_text, Length: 10000, dtype: object"
      ]
     },
     "execution_count": 27,
     "metadata": {},
     "output_type": "execute_result"
    }
   ],
   "source": [
    "stopwordlist = ['a', 'about', 'above', 'after', 'again', 'ain', 'all', 'am', 'an',\n",
    "             'and','any','are', 'as', 'at', 'be', 'because', 'been', 'before',\n",
    "             'being', 'below', 'between','both', 'by', 'can', 'd', 'did', 'do',\n",
    "             'does', 'doing', 'down', 'during', 'each','few', 'for', 'from',\n",
    "             'further', 'had', 'has', 'have', 'having', 'he', 'her', 'here',\n",
    "             'hers', 'herself', 'him', 'himself', 'his', 'how', 'i', 'if', 'in',\n",
    "             'into','is', 'it', 'its', 'itself', 'just', 'll', 'm', 'ma',\n",
    "             'me', 'more', 'most','my', 'myself', 'now', 'o', 'of', 'on', 'once',\n",
    "             'only', 'or', 'other', 'our', 'ours','ourselves', 'out', 'own', 're','s', 'same', 'she', \"shes\", 'should', \"shouldve\",'so', 'some', 'such',\n",
    "             't', 'than', 'that', \"thatll\", 'the', 'their', 'theirs', 'them',\n",
    "             'themselves', 'then', 'there', 'these', 'they', 'this', 'those',\n",
    "             'through', 'to', 'too','under', 'until', 'up', 've', 'very', 'was',\n",
    "             'we', 'were', 'what', 'when', 'where','which','while', 'who', 'whom',\n",
    "             'why', 'will', 'with', 'won', 'y', 'you', \"youd\",\"youll\", \"youre\",\n",
    "             \"youve\", 'your', 'yours', 'yourself', 'yourselves', 'article', 'please', 'talk', 'wikipedia', 'one', 'utc', 'see', 'user', 'redirect', 'question', 'image'\n",
    "                'stop', 'need', 'seem', 'welcome', 'link', 'use', 'page', 'thank', 'made', 'hello', 'know', 'back', 'much',\n",
    "               'right', 'section', 'people', 'hi', 'may', 'said', 'list', 'well', 'read', 'u', 'agree', 'help', 'really',\n",
    "               'name', 'deletion', 'hey', 'say', 'someone', 'want', 'look', 'edit', 'make', 'comment', 'source', 'think',\n",
    "               'time', 'still', 'editing', 'sure', 'delete', 'work', 'july', 'add', 'okay', 'dont', 'way', 'another']\n",
    "STOPWORDS = set(stopwordlist)\n",
    "def cleaning_stopwords(P):\n",
    "    P = \" \".join([word for word in str(P).split() if word not in STOPWORDS])\n",
    "    return P\n",
    "P = P.apply(lambda x:cleaning_stopwords(x))\n",
    "P"
   ]
  },
  {
   "cell_type": "code",
   "execution_count": 28,
   "id": "cd285f20",
   "metadata": {},
   "outputs": [
    {
     "data": {
      "text/plain": [
       "0       yo bitch ja rule succesful ever whats hating s...\n",
       "1                                  rfc  title fine is imo\n",
       "2                       sources   zawe ashton lapland —  \n",
       "3       if source information updated correct form gue...\n",
       "4                            not anonymously articles all\n",
       "                              ...                        \n",
       "9995                                justin timberlake gay\n",
       "9996                                    blokes welsh twat\n",
       "9997     belated welcome  here wishing belated wikiped...\n",
       "9998     26 september 2010 utc ugghhhh email client go...\n",
       "9999                             hooray nonpov discussion\n",
       "Name: comment_text, Length: 10000, dtype: object"
      ]
     },
     "execution_count": 28,
     "metadata": {},
     "output_type": "execute_result"
    }
   ],
   "source": [
    "import string\n",
    "english_punctuations = string.punctuation\n",
    "punctuations_list = english_punctuations\n",
    "def cleaning_punctuations(P):\n",
    "    translator = str.maketrans('', '', punctuations_list)\n",
    "    return P.translate(translator)\n",
    "P = P.apply(lambda x: cleaning_punctuations(x))\n",
    "P"
   ]
  },
  {
   "cell_type": "code",
   "execution_count": 29,
   "id": "945040f8",
   "metadata": {},
   "outputs": [
    {
     "data": {
      "text/plain": [
       "0       yo bitch ja rule succesful ever whats hating s...\n",
       "1                                  rfc  title fine is imo\n",
       "2                       sources   zawe ashton lapland —  \n",
       "3       if source information updated correct form gue...\n",
       "4                            not anonymously articles all\n",
       "                              ...                        \n",
       "9995                                justin timberlake gay\n",
       "9996                                    blokes welsh twat\n",
       "9997     belated welcome  here wishing belated wikiped...\n",
       "9998     26 september 2010 utc ugghhhh email client go...\n",
       "9999                             hooray nonpov discussion\n",
       "Name: comment_text, Length: 10000, dtype: object"
      ]
     },
     "execution_count": 29,
     "metadata": {},
     "output_type": "execute_result"
    }
   ],
   "source": [
    "def cleaning_URLs(P):\n",
    "    return re.sub('((www.[^s]+)|(https?://[^s]+))',' ',P)\n",
    "P = P.apply(lambda x: cleaning_URLs(x))\n",
    "P"
   ]
  },
  {
   "cell_type": "code",
   "execution_count": 30,
   "id": "f27ec6cf",
   "metadata": {},
   "outputs": [
    {
     "data": {
      "text/plain": [
       "0       yo bitch ja rule succesful ever whats hating s...\n",
       "1                                  rfc  title fine is imo\n",
       "2                       sources   zawe ashton lapland —  \n",
       "3       if source information updated correct form gue...\n",
       "4                            not anonymously articles all\n",
       "                              ...                        \n",
       "9995                                justin timberlake gay\n",
       "9996                                    blokes welsh twat\n",
       "9997     belated welcome  here wishing belated wikiped...\n",
       "9998      september  utc ugghhhh email client gone scr...\n",
       "9999                             hooray nonpov discussion\n",
       "Name: comment_text, Length: 10000, dtype: object"
      ]
     },
     "execution_count": 30,
     "metadata": {},
     "output_type": "execute_result"
    }
   ],
   "source": [
    "def cleaning_numbers(P):\n",
    "    return re.sub('[0-9]+', '', P)\n",
    "P = P.apply(lambda x: cleaning_numbers(x))\n",
    "P"
   ]
  },
  {
   "cell_type": "code",
   "execution_count": 31,
   "id": "0997c2a0",
   "metadata": {},
   "outputs": [
    {
     "data": {
      "text/plain": [
       "0       [yo, bitch, ja, rule, succesful, ever, whats, ...\n",
       "1                             [rfc, title, fine, is, imo]\n",
       "2                     [sources, zawe, ashton, lapland, —]\n",
       "3       [if, source, information, updated, correct, fo...\n",
       "4                       [not, anonymously, articles, all]\n",
       "                              ...                        \n",
       "9995                            [justin, timberlake, gay]\n",
       "9996                                [blokes, welsh, twat]\n",
       "9997    [belated, welcome, here, wishing, belated, wik...\n",
       "9998    [september, utc, ugghhhh, email, client, gone,...\n",
       "9999                         [hooray, nonpov, discussion]\n",
       "Name: comment_text, Length: 10000, dtype: object"
      ]
     },
     "execution_count": 31,
     "metadata": {},
     "output_type": "execute_result"
    }
   ],
   "source": [
    "tokenizer = RegexpTokenizer('\\s+', gaps=True)\n",
    "P = P.apply(tokenizer.tokenize)\n",
    "P"
   ]
  },
  {
   "cell_type": "code",
   "execution_count": 32,
   "id": "1bad993c",
   "metadata": {},
   "outputs": [
    {
     "data": {
      "text/plain": [
       "0       [yo, bitch, ja, rule, succesful, ever, whats, ...\n",
       "1                             [rfc, title, fine, is, imo]\n",
       "2                      [source, zawe, ashton, lapland, —]\n",
       "3       [if, source, information, updated, correct, fo...\n",
       "4                        [not, anonymously, article, all]\n",
       "                              ...                        \n",
       "9995                            [justin, timberlake, gay]\n",
       "9996                                 [bloke, welsh, twat]\n",
       "9997    [belated, welcome, here, wishing, belated, wik...\n",
       "9998    [september, utc, ugghhhh, email, client, gone,...\n",
       "9999                         [hooray, nonpov, discussion]\n",
       "Name: comment_text, Length: 10000, dtype: object"
      ]
     },
     "execution_count": 32,
     "metadata": {},
     "output_type": "execute_result"
    }
   ],
   "source": [
    "lm = WordNetLemmatizer()\n",
    "def lemmatization(P):\n",
    "    P = [lm.lemmatize(word) for word in P]\n",
    "    return P\n",
    "P = P.apply(lambda x: lemmatization(x))\n",
    "P"
   ]
  },
  {
   "cell_type": "code",
   "execution_count": 33,
   "id": "efcdba19",
   "metadata": {},
   "outputs": [
    {
     "data": {
      "text/plain": [
       "0       yo bitch ja rule succesful ever whats hating s...\n",
       "1                                   rfc title fine is imo\n",
       "2                            source zawe ashton lapland —\n",
       "3       if source information updated correct form gue...\n",
       "4                             not anonymously article all\n",
       "                              ...                        \n",
       "9995                                justin timberlake gay\n",
       "9996                                     bloke welsh twat\n",
       "9997    belated welcome here wishing belated wikipedia...\n",
       "9998    september utc ugghhhh email client gone screwy...\n",
       "9999                             hooray nonpov discussion\n",
       "Name: comment_text, Length: 10000, dtype: object"
      ]
     },
     "execution_count": 33,
     "metadata": {},
     "output_type": "execute_result"
    }
   ],
   "source": [
    "def list_to_string(P):\n",
    "    P = (' '.join(map(str, P)))\n",
    "    return P\n",
    "P = P.apply(lambda x: list_to_string(x))\n",
    "P"
   ]
  },
  {
   "cell_type": "code",
   "execution_count": 34,
   "id": "6421e0f8",
   "metadata": {},
   "outputs": [],
   "source": [
    "vectorizer = pickle.load(open(\"vectorizer.pickle\", \"rb\"))"
   ]
  },
  {
   "cell_type": "code",
   "execution_count": 35,
   "id": "f27f5317",
   "metadata": {},
   "outputs": [],
   "source": [
    "P=vectorizer.transform(P)"
   ]
  },
  {
   "cell_type": "code",
   "execution_count": 36,
   "id": "e091d1f6",
   "metadata": {},
   "outputs": [
    {
     "data": {
      "text/plain": [
       "(10000, 8000)"
      ]
     },
     "execution_count": 36,
     "metadata": {},
     "output_type": "execute_result"
    }
   ],
   "source": [
    "P.shape"
   ]
  },
  {
   "cell_type": "code",
   "execution_count": 37,
   "id": "527143d6",
   "metadata": {},
   "outputs": [
    {
     "data": {
      "text/html": [
       "<div>\n",
       "<style scoped>\n",
       "    .dataframe tbody tr th:only-of-type {\n",
       "        vertical-align: middle;\n",
       "    }\n",
       "\n",
       "    .dataframe tbody tr th {\n",
       "        vertical-align: top;\n",
       "    }\n",
       "\n",
       "    .dataframe thead th {\n",
       "        text-align: right;\n",
       "    }\n",
       "</style>\n",
       "<table border=\"1\" class=\"dataframe\">\n",
       "  <thead>\n",
       "    <tr style=\"text-align: right;\">\n",
       "      <th></th>\n",
       "      <th>id</th>\n",
       "      <th>toxic</th>\n",
       "      <th>severe_toxic</th>\n",
       "      <th>obscene</th>\n",
       "      <th>threat</th>\n",
       "      <th>insult</th>\n",
       "      <th>identity_hate</th>\n",
       "    </tr>\n",
       "  </thead>\n",
       "  <tbody>\n",
       "    <tr>\n",
       "      <th>0</th>\n",
       "      <td>00001cee341fdb12</td>\n",
       "      <td>0.999994</td>\n",
       "      <td>0.080616</td>\n",
       "      <td>0.999982</td>\n",
       "      <td>0.007398</td>\n",
       "      <td>0.875384</td>\n",
       "      <td>0.050554</td>\n",
       "    </tr>\n",
       "    <tr>\n",
       "      <th>1</th>\n",
       "      <td>0000247867823ef7</td>\n",
       "      <td>0.033413</td>\n",
       "      <td>0.005502</td>\n",
       "      <td>0.011553</td>\n",
       "      <td>0.002161</td>\n",
       "      <td>0.012181</td>\n",
       "      <td>0.007286</td>\n",
       "    </tr>\n",
       "    <tr>\n",
       "      <th>2</th>\n",
       "      <td>00013b17ad220c46</td>\n",
       "      <td>0.003727</td>\n",
       "      <td>0.004363</td>\n",
       "      <td>0.003925</td>\n",
       "      <td>0.001948</td>\n",
       "      <td>0.009619</td>\n",
       "      <td>0.004566</td>\n",
       "    </tr>\n",
       "    <tr>\n",
       "      <th>3</th>\n",
       "      <td>00017563c3f7919a</td>\n",
       "      <td>0.006338</td>\n",
       "      <td>0.003902</td>\n",
       "      <td>0.006702</td>\n",
       "      <td>0.002224</td>\n",
       "      <td>0.011188</td>\n",
       "      <td>0.005862</td>\n",
       "    </tr>\n",
       "    <tr>\n",
       "      <th>4</th>\n",
       "      <td>00017695ad8997eb</td>\n",
       "      <td>0.002918</td>\n",
       "      <td>0.003959</td>\n",
       "      <td>0.009937</td>\n",
       "      <td>0.001728</td>\n",
       "      <td>0.014097</td>\n",
       "      <td>0.007678</td>\n",
       "    </tr>\n",
       "    <tr>\n",
       "      <th>...</th>\n",
       "      <td>...</td>\n",
       "      <td>...</td>\n",
       "      <td>...</td>\n",
       "      <td>...</td>\n",
       "      <td>...</td>\n",
       "      <td>...</td>\n",
       "      <td>...</td>\n",
       "    </tr>\n",
       "    <tr>\n",
       "      <th>9995</th>\n",
       "      <td>10b1754d1898042c</td>\n",
       "      <td>1.000000</td>\n",
       "      <td>0.008762</td>\n",
       "      <td>0.020177</td>\n",
       "      <td>0.003325</td>\n",
       "      <td>0.102837</td>\n",
       "      <td>0.824018</td>\n",
       "    </tr>\n",
       "    <tr>\n",
       "      <th>9996</th>\n",
       "      <td>10b200880206ed38</td>\n",
       "      <td>0.859536</td>\n",
       "      <td>0.005482</td>\n",
       "      <td>0.026126</td>\n",
       "      <td>0.002097</td>\n",
       "      <td>0.037265</td>\n",
       "      <td>0.011358</td>\n",
       "    </tr>\n",
       "    <tr>\n",
       "      <th>9997</th>\n",
       "      <td>10b23e9152acee30</td>\n",
       "      <td>0.022246</td>\n",
       "      <td>0.004138</td>\n",
       "      <td>0.009352</td>\n",
       "      <td>0.002265</td>\n",
       "      <td>0.014721</td>\n",
       "      <td>0.004722</td>\n",
       "    </tr>\n",
       "    <tr>\n",
       "      <th>9998</th>\n",
       "      <td>10b2810192fb1174</td>\n",
       "      <td>0.065124</td>\n",
       "      <td>0.004715</td>\n",
       "      <td>0.014880</td>\n",
       "      <td>0.002342</td>\n",
       "      <td>0.025423</td>\n",
       "      <td>0.009118</td>\n",
       "    </tr>\n",
       "    <tr>\n",
       "      <th>9999</th>\n",
       "      <td>10b2c58a38630e4e</td>\n",
       "      <td>0.012098</td>\n",
       "      <td>0.004922</td>\n",
       "      <td>0.007906</td>\n",
       "      <td>0.002073</td>\n",
       "      <td>0.016451</td>\n",
       "      <td>0.005804</td>\n",
       "    </tr>\n",
       "  </tbody>\n",
       "</table>\n",
       "<p>10000 rows × 7 columns</p>\n",
       "</div>"
      ],
      "text/plain": [
       "                    id     toxic  severe_toxic   obscene    threat    insult  \\\n",
       "0     00001cee341fdb12  0.999994      0.080616  0.999982  0.007398  0.875384   \n",
       "1     0000247867823ef7  0.033413      0.005502  0.011553  0.002161  0.012181   \n",
       "2     00013b17ad220c46  0.003727      0.004363  0.003925  0.001948  0.009619   \n",
       "3     00017563c3f7919a  0.006338      0.003902  0.006702  0.002224  0.011188   \n",
       "4     00017695ad8997eb  0.002918      0.003959  0.009937  0.001728  0.014097   \n",
       "...                ...       ...           ...       ...       ...       ...   \n",
       "9995  10b1754d1898042c  1.000000      0.008762  0.020177  0.003325  0.102837   \n",
       "9996  10b200880206ed38  0.859536      0.005482  0.026126  0.002097  0.037265   \n",
       "9997  10b23e9152acee30  0.022246      0.004138  0.009352  0.002265  0.014721   \n",
       "9998  10b2810192fb1174  0.065124      0.004715  0.014880  0.002342  0.025423   \n",
       "9999  10b2c58a38630e4e  0.012098      0.004922  0.007906  0.002073  0.016451   \n",
       "\n",
       "      identity_hate  \n",
       "0          0.050554  \n",
       "1          0.007286  \n",
       "2          0.004566  \n",
       "3          0.005862  \n",
       "4          0.007678  \n",
       "...             ...  \n",
       "9995       0.824018  \n",
       "9996       0.011358  \n",
       "9997       0.004722  \n",
       "9998       0.009118  \n",
       "9999       0.005804  \n",
       "\n",
       "[10000 rows x 7 columns]"
      ]
     },
     "execution_count": 37,
     "metadata": {},
     "output_type": "execute_result"
    }
   ],
   "source": [
    "pickled_model = pickle.load(open('model.pkl', 'rb'))\n",
    "Q=pd.DataFrame(pickled_model.predict_proba(P))\n",
    "Q.insert(0,'id',test_data.id,True)\n",
    "Q.columns=['id','toxic','severe_toxic','obscene','threat','insult','identity_hate']\n",
    "Q"
   ]
  },
  {
   "cell_type": "code",
   "execution_count": 39,
   "id": "fb89925e",
   "metadata": {},
   "outputs": [],
   "source": [
    "Q.to_excel(\"E:/jigsaw-toxic-comment-classification-challenge/output_file.xlsx\",index= False)"
   ]
  },
  {
   "cell_type": "code",
   "execution_count": null,
   "id": "360555c1",
   "metadata": {},
   "outputs": [],
   "source": []
  }
 ],
 "metadata": {
  "kernelspec": {
   "display_name": "Python 3",
   "language": "python",
   "name": "python3"
  },
  "language_info": {
   "codemirror_mode": {
    "name": "ipython",
    "version": 3
   },
   "file_extension": ".py",
   "mimetype": "text/x-python",
   "name": "python",
   "nbconvert_exporter": "python",
   "pygments_lexer": "ipython3",
   "version": "3.8.8"
  }
 },
 "nbformat": 4,
 "nbformat_minor": 5
}
